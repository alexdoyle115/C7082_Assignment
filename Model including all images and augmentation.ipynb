{
  "nbformat": 4,
  "nbformat_minor": 0,
  "metadata": {
    "colab": {
      "name": "1. Using neural networks to classify wheat leaf diseases",
      "provenance": [],
      "collapsed_sections": [],
      "authorship_tag": "ABX9TyOxjJB2B7erMQS1vBEIL1/P",
      "include_colab_link": true
    },
    "kernelspec": {
      "name": "python3",
      "display_name": "Python 3"
    }
  },
  "cells": [
    {
      "cell_type": "markdown",
      "metadata": {
        "id": "view-in-github",
        "colab_type": "text"
      },
      "source": [
        "<a href=\"https://colab.research.google.com/github/alexdoyle115/C7082_Assignment/blob/main/Model%20including%20all%20images%20and%20augmentation.ipynb\" target=\"_parent\"><img src=\"https://colab.research.google.com/assets/colab-badge.svg\" alt=\"Open In Colab\"/></a>"
      ]
    },
    {
      "cell_type": "markdown",
      "metadata": {
        "id": "bPliRa-Xddjb"
      },
      "source": [
        "# Classifying wheat leaf disease using convolutional neural networks  \n",
        "\n",
        "---\n",
        "\n"
      ]
    },
    {
      "cell_type": "markdown",
      "metadata": {
        "id": "0UNx8tQbLUwW"
      },
      "source": [
        "### Table of Contents\n",
        "\n",
        "1.   Background\n",
        "2.   Methods\n",
        "3.   Results\n",
        "4.   Discussion\n",
        "5.   Literiture"
      ]
    },
    {
      "cell_type": "markdown",
      "metadata": {
        "id": "Yc9UxrrTNAjq"
      },
      "source": [
        "### 1. Background"
      ]
    },
    {
      "cell_type": "markdown",
      "metadata": {
        "id": "I59CQkk-O0-2"
      },
      "source": [
        "<p align = \"justify\">*Puccina triticina* is a fungal disease of affecting a range of crops but most notably wheat crops worldwide. Also known as brown leaf rust it is widely recognised a one of the most important diseases, causing around a 4% reduction in yield reduction worldwide (Dulleiller et al., 2007) but reductions in up to 50% have been recorded(Draz et al, 2015). While leaf rusts have a complex lifestyle with both sexual and asexual reproduction aswell as multiple hosts. For the purposes of this analysis the lifecycle is beyond the scope of this analysis. Importantly it occurs on the leaf blade with infections appearing as small round pustules with a orange brown colour surrounded by a yellow ring of chlorotic leaf tissue, these very idendtifiable pustlues contain the spores.</p>\n",
        "\n",
        "<p align = \"justify\">There are 2 main methods of controlling brown rust in fields, resistant varieties and chemical sprays. The use of resistant varieties is much more in line with the rational of modern farming techniques. The main issue with resistant varieties is the appearnace of new strains that can infect previously resist varieties. To combat this there are fungicides on the market that do offer control but it is important to ensure that their effictiveness is not impacted. </p>\n",
        "\n",
        "<p align = \"justify\">To try and protect both cultural and chemicals controls effectiveness, it is key to utilise the pillars of Intergrated Pest Management(IPM). This can be better acheived with the use of modern technologies such as precision agriculture. The rise of precision agriculture has allowed farming to gather more detailed data on smaller and smaller areas.</p>\n",
        "\n",
        "<p align = \"justify\">Accurate automated high-throughput phenotyping of plant diseases has the potential to aid crop management, speed up breeding, and contribute to fundamental and applied research efforts (Pauli et al. 2016).With companies like the small robot company being developed one could envision small mapping robots being used to travel the fields, identify high disease areas and highlight these regions for chemical control. A system like this would allow for improved diagnosis and better use of chemical fungicdes as well as removing the subjective nature from resistance scoring in crop trials (Bock et al. 2009).</p>  \n",
        "\n",
        "<p align = \"justify\">While a system such as this may be seen in the future, there are a number of challenges for both the hardware and software to overcome. One such challenge is relaiably distinguishing between a diseased plant and other forms of damage (DeChant et al. 2017). Image based identification is the best way to approach such a problem, by using Convolutional Neural Networks(CNN) to extract useful features from images without needing manual feature engineering. Using a CNN to correctly identify the presesnce of a leaf rust infection on the surface of a leaf when only comaparing it to perfectly healthy leaves would be very simple but not very practical any discouloring of the leaf could lead to the an incorrect identifaction.</p>\n",
        "\n",
        "<p align = \"justify\">To add a layer of practicality a third class is included in the data, leaves that are nitrogen deficient. Nitrogen deficiancy is the most common nutrient deficiency and results in paler green leaves with yellowing at the leaf tip reducing grain yield. </p>\n",
        "\n",
        "<p align = \"justify\">The objective of this analysis is to correctly identify images of wheat leaves infected with leaf rust, leaves suffering with a nitrogen deficiency and leaves that are perfectly healthy. </p>\n",
        "\n",
        "\n",
        "\n",
        "\n",
        "\n"
      ]
    },
    {
      "cell_type": "markdown",
      "metadata": {
        "id": "CpNCtkHEM8an"
      },
      "source": [
        "### 2. Methods "
      ]
    },
    {
      "cell_type": "markdown",
      "metadata": {
        "id": "YR9I6es7ScMr"
      },
      "source": [
        "####2.1 Data "
      ]
    },
    {
      "cell_type": "markdown",
      "metadata": {
        "id": "dbY2UoQ3Sili"
      },
      "source": [
        "The data for this analysis consists of 1459 images of wheat leaves, split into 2 subsets Nitrogen Deficient(abiotic stress) and Rust(biotic stress) and further split outlined in Fig. 1. below(the number of images in each subset). "
      ]
    },
    {
      "cell_type": "markdown",
      "metadata": {
        "id": "hZLrBLp3YJsZ"
      },
      "source": [
        "Fig. 1.\n",
        "\n",
        "Nitrogen Deficient | Rust \n",
        "---|---\n",
        "**Train:** |\n",
        "    N deficient (209)|Rust (258)\n",
        "    Control (209)| Control(258)\n",
        "**Test:** \n",
        "    N deficient (44)|Rust (54)\n",
        "    Control (44)|Control (73)\n",
        "**Validation:**\n",
        "    N deficient (44)|Rust (54)\n",
        "    Control (44)|Control(73) \n",
        "\n"
      ]
    },
    {
      "cell_type": "markdown",
      "metadata": {
        "id": "GIeI1ZPLp07t"
      },
      "source": [
        "The data was collected with an RGB camera from a wheat crop sown in the winter 2019 and harvested in 2020, the fields were a part of the Indian Agriculture Research Institute. The leaf images were acquired at the booting stage of a wheat crop. After the pictures were taken, the images were segmented from the background using otsu-based masking(Arya et al. 2020).\n",
        "\n",
        "The files for this analysis can be found at this [link](https://data.mendeley.com/datasets/th422bg4yd/1). "
      ]
    },
    {
      "cell_type": "markdown",
      "metadata": {
        "id": "iEgq8GM-hY8C"
      },
      "source": [
        "####2.2 Convoltional Neural Network"
      ]
    },
    {
      "cell_type": "code",
      "metadata": {
        "colab": {
          "base_uri": "https://localhost:8080/"
        },
        "id": "XxXaODxyCsj9",
        "outputId": "e00c7ab2-9022-48c6-c1a8-e61ad4f517cd"
      },
      "source": [
        "# Importing the required packages\n",
        "from google.colab import drive \n",
        "\n",
        "drive.mount('/content/gdrive')"
      ],
      "execution_count": 8,
      "outputs": [
        {
          "output_type": "stream",
          "text": [
            "Drive already mounted at /content/gdrive; to attempt to forcibly remount, call drive.mount(\"/content/gdrive\", force_remount=True).\n"
          ],
          "name": "stdout"
        }
      ]
    },
    {
      "cell_type": "code",
      "metadata": {
        "colab": {
          "base_uri": "https://localhost:8080/",
          "height": 35
        },
        "id": "7-fprUeTDMTa",
        "outputId": "78f2405c-d259-45da-fdb6-cd09acd7716f"
      },
      "source": [
        "import keras\n",
        "keras.__version__"
      ],
      "execution_count": 9,
      "outputs": [
        {
          "output_type": "execute_result",
          "data": {
            "application/vnd.google.colaboratory.intrinsic+json": {
              "type": "string"
            },
            "text/plain": [
              "'2.4.3'"
            ]
          },
          "metadata": {
            "tags": []
          },
          "execution_count": 9
        }
      ]
    },
    {
      "cell_type": "code",
      "metadata": {
        "id": "YAlwb-lqDV6h"
      },
      "source": [
        "import os\n",
        "\n",
        "import shutil"
      ],
      "execution_count": 10,
      "outputs": []
    },
    {
      "cell_type": "markdown",
      "metadata": {
        "id": "HVH-8io0hePM"
      },
      "source": [
        "Setting up the directories\r\n",
        "\r\n",
        "---\r\n",
        "The directories were set up to include all files in a single folder divided according to train, test and validation as opposed to how they are set up originally which was divided by plants showing leaf rust and nitrogen deficiency as well as their accompying controls. This allows us to create and orginise the directories before filling them with the appropriate files. "
      ]
    },
    {
      "cell_type": "code",
      "metadata": {
        "id": "BHNtKpGUrdH8"
      },
      "source": [
        "# Training images \n",
        "train_deficiency =('/content/gdrive/MyDrive/C7082_Assignment/Ndeficient/train/deficiency')\n",
        "train_controlN = ('/content/gdrive/MyDrive/C7082_Assignment/Ndeficient/train/control')\n",
        "\n",
        "train_diseased = ('/content/gdrive/MyDrive/C7082_Assignment/WheatLeafRust/train/diseased')\n",
        "train_controlR = ('/content/gdrive/MyDrive/C7082_Assignment/WheatLeafRust/train/control')\n",
        "\n",
        "# Testing images\n",
        "test_deficiency = ('/content/gdrive/MyDrive/C7082_Assignment/Ndeficient/test/deficiency')\n",
        "test_controlN = ('/content/gdrive/MyDrive/C7082_Assignment/Ndeficient/test/control')\n",
        "\n",
        "test_diseased = ('/content/gdrive/MyDrive/C7082_Assignment/WheatLeafRust/test/diseased')\n",
        "test_controlR = ('/content/gdrive/MyDrive/C7082_Assignment/WheatLeafRust/test/control')\n",
        "\n",
        "# Validation images\n",
        "val_deficiency = ('/content/gdrive/MyDrive/C7082_Assignment/Ndeficient/val/deficiency')\n",
        "val_controlN = ('/content/gdrive/MyDrive/C7082_Assignment/Ndeficient/val/control')\n",
        "\n",
        "val_diseased = ('/content/gdrive/MyDrive/C7082_Assignment/WheatLeafRust/val/diseased')\n",
        "val_controlR = ('/content/gdrive/MyDrive/C7082_Assignment/WheatLeafRust/val/control')\n",
        "\n",
        "\n",
        "\n"
      ],
      "execution_count": 11,
      "outputs": []
    },
    {
      "cell_type": "code",
      "metadata": {
        "id": "6Qcl8_IsDb5a"
      },
      "source": [
        "# Creating a directory to work out of\n",
        "cwd = os.getcwd()\n",
        "NN_dir = '/content/gdrive/MyDrive/C7082_Assignment/NN1_dir'\n",
        "os.mkdir(NN_dir)\n"
      ],
      "execution_count": 13,
      "outputs": []
    },
    {
      "cell_type": "code",
      "metadata": {
        "id": "Q7GyYsn9jv4N"
      },
      "source": [
        "# The training, validation and tests directories\n",
        "train_dir = os.path.join(NN_dir, 'train')\n",
        "os.mkdir(train_dir)\n",
        "\n",
        "val_dir = os.path.join(NN_dir, 'val')\n",
        "os.mkdir(val_dir)\n",
        "\n",
        "test_dir = os.path.join(NN_dir, 'test')\n",
        "os.mkdir(test_dir)"
      ],
      "execution_count": 14,
      "outputs": []
    },
    {
      "cell_type": "code",
      "metadata": {
        "id": "UjepAXANk-NG"
      },
      "source": [
        "# The nitrogen deficent, leaf rust and control directories \n",
        "# Training directory\n",
        "train_ndef_dir = os.path.join(train_dir, 'ndef')\n",
        "os.mkdir(train_ndef_dir)\n",
        "\n",
        "train_rust_dir = os.path.join(train_dir, 'rust')\n",
        "os.mkdir(train_rust_dir)\n",
        "\n",
        "train_control_dir = os.path.join(train_dir, 'control')\n",
        "os.mkdir(train_control_dir)\n",
        "\n",
        "# Test directories\n",
        "test_ndef_dir = os.path.join(test_dir, 'ndef')\n",
        "os.mkdir(test_ndef_dir)\n",
        "\n",
        "test_rust_dir = os.path.join(test_dir, 'rust')\n",
        "os.mkdir(test_rust_dir)\n",
        "\n",
        "test_control_dir = os.path.join(test_dir, 'control')\n",
        "os.mkdir(test_control_dir)\n",
        "\n",
        "# Validation directories\n",
        "val_ndef_dir = os.path.join(val_dir, 'ndef')\n",
        "os.mkdir(val_ndef_dir)\n",
        "\n",
        "val_rust_dir = os.path.join(val_dir, 'rust')\n",
        "os.mkdir(val_rust_dir)\n",
        "\n",
        "val_control_dir = os.path.join(val_dir, 'control')\n",
        "os.mkdir(val_control_dir)"
      ],
      "execution_count": 15,
      "outputs": []
    },
    {
      "cell_type": "markdown",
      "metadata": {
        "id": "xfhALOW0nzhx"
      },
      "source": [
        "Now we need to fill the directories"
      ]
    },
    {
      "cell_type": "code",
      "metadata": {
        "id": "nBw8KRiO--70"
      },
      "source": [
        "# 1. Copy images into training directory (training)\n",
        "fnames = ['{}.jpg'.format(i) for i in range(209)]\n",
        "for fname in fnames:\n",
        "  src = os.path.join(train_deficiency, fname)\n",
        "  dst = os.path.join(train_ndef_dir, fname)\n",
        "  shutil.copy(src, dst)\n",
        "\n",
        "# 2. Nitrogen deficiency control images (training)\n",
        "fnames = ['{}.jpg'.format(i) for i in range(208)]\n",
        "for fname in fnames:\n",
        "  src = os.path.join(train_controlN, fname)\n",
        "  dst = os.path.join(train_control_dir, fname)\n",
        "  shutil.copy(src, dst)\n",
        "\n",
        "# 3. Leaf rust diseased images (training)\n",
        "fnames = ['{}.jpg'.format(i) for i in range(258)]\n",
        "for fname in fnames:\n",
        "  src = os.path.join(train_diseased, fname)\n",
        "  dst = os.path.join(train_rust_dir, fname)\n",
        "  shutil.copy(src, dst)\n",
        "\n",
        "# Renameing the images in the control directory to make room for the additional control images \n",
        "for i , filename in enumerate(os.listdir(\"/content/gdrive/MyDrive/C7082_Assignment/NN1_dir/train/control\")):\n",
        "    os.rename(train_control_dir + \"/\" + str(i) + \".jpg\", train_control_dir + \"/\" + str(i + 258) + \".jpg\")\n",
        "    \n",
        "# 4. Leaf rust control images (training) \n",
        "fnames = ['{}.jpg'.format(i) for i in range(258)]\n",
        "for fname in fnames:\n",
        "  src = os.path.join(train_controlR, fname)\n",
        "  dst = os.path.join(train_control_dir, fname)\n",
        "  shutil.copy(src, dst)\n",
        "\n",
        "# 5. Nitrogen deficiency test images \n",
        "fnames = ['{}.jpg'.format(i) for i in range(44)]\n",
        "for fname in fnames:\n",
        "  src = os.path.join(test_deficiency, fname)\n",
        "  dst = os.path.join(test_ndef_dir, fname)\n",
        "  shutil.copy(src, dst)\n",
        "\n",
        "# 6. Nitrogen deficency test control\n",
        "fnames = ['{}.jpg'.format(i) for i in range(44)]\n",
        "for fname in fnames:\n",
        "  src = os.path.join(test_controlN, fname)\n",
        "  dst = os.path.join(test_control_dir, fname)\n",
        "  shutil.copy(src, dst)\n",
        "\n",
        "# 7. Leaf rust test images \n",
        "fnames = ['{}.jpg'.format(i) for i in range(54)]\n",
        "for fname in fnames:\n",
        "  src = os.path.join(test_diseased, fname)\n",
        "  dst = os.path.join(test_rust_dir, fname)\n",
        "  shutil.copy(src, dst)\n",
        "\n",
        "# Renameing the images in the control directory to make room for the additional control images \n",
        "for i , filename in enumerate(os.listdir(\"/content/gdrive/MyDrive/C7082_Assignment/NN1_dir/test/control\")):\n",
        "    os.rename(test_control_dir + \"/\" + str(i) + \".jpg\", test_control_dir + \"/\" + str(i + 73) + \".jpg\")\n",
        "    break\n",
        "\n",
        "# 8. Leaf rust test control\n",
        "fnames = ['{}.jpg'.format(i) for i in range(73)]\n",
        "for fname in fnames:\n",
        "  src = os.path.join(test_controlR, fname)\n",
        "  dst = os.path.join(test_control_dir, fname)\n",
        "  shutil.copy(src, dst)\n",
        "\n",
        "# 9. Nitrogen deficiency val \n",
        "fnames = ['{}.jpg'.format(i) for i in range(44)]\n",
        "for fname in fnames:\n",
        "  src = os.path.join(val_deficiency, fname)\n",
        "  dst = os.path.join(val_ndef_dir, fname)\n",
        "  shutil.copy(src, dst)\n",
        "\n",
        "# 10. Nitrogen deficency val control\n",
        "fnames = ['{}.jpg'.format(i) for i in range(44)]\n",
        "for fname in fnames:\n",
        "  src = os.path.join(val_controlN, fname)\n",
        "  dst = os.path.join(val_control_dir, fname)\n",
        "  shutil.copy(src, dst)\n",
        "\n",
        "# 11. Leaf rust val\n",
        "fnames = ['{}.jpg'.format(i) for i in range(54)]\n",
        "for fname in fnames:\n",
        "  src = os.path.join(val_diseased, fname)\n",
        "  dst = os.path.join(val_rust_dir, fname)\n",
        "  shutil.copy(src, dst)\n",
        "\n",
        "# Renameing the images in the control directory to make room for the additional control images \n",
        "for i , filename in enumerate(os.listdir(\"/content/gdrive/MyDrive/C7082_Assignment/NN1_dir/val/control\")):\n",
        "    os.rename(val_control_dir + \"/\" + str(i) + \".jpg\", val_control_dir + \"/\" + str(i + 73) + \".jpg\")\n",
        "    break\n",
        "\n",
        "# 12. Leaf rust val control\n",
        "fnames = ['{}.jpg'.format(i) for i in range(73)]\n",
        "for fname in fnames:\n",
        "  src = os.path.join(val_controlR, fname)\n",
        "  dst = os.path.join(val_control_dir, fname)\n",
        "  shutil.copy(src, dst)\n"
      ],
      "execution_count": 16,
      "outputs": []
    },
    {
      "cell_type": "code",
      "metadata": {
        "id": "o-XoTYCsCym3",
        "colab": {
          "base_uri": "https://localhost:8080/"
        },
        "outputId": "ce951011-fe7d-4e4d-da6c-90c1663db9a3"
      },
      "source": [
        "print('total nitrogen deficeicent training images', len(os.listdir(train_control_dir)))"
      ],
      "execution_count": 17,
      "outputs": [
        {
          "output_type": "stream",
          "text": [
            "total nitrogen deficeicent training images 466\n"
          ],
          "name": "stdout"
        }
      ]
    },
    {
      "cell_type": "code",
      "metadata": {
        "id": "2232bOAsQiU9",
        "colab": {
          "base_uri": "https://localhost:8080/"
        },
        "outputId": "4123f0d0-010e-4bcc-9f83-50da9539e516"
      },
      "source": [
        "print('total diseased test images', len(os.listdir(test_rust_dir)))"
      ],
      "execution_count": 18,
      "outputs": [
        {
          "output_type": "stream",
          "text": [
            "total diseased test images 54\n"
          ],
          "name": "stdout"
        }
      ]
    },
    {
      "cell_type": "code",
      "metadata": {
        "id": "WIiw2iNsQ6ZB",
        "colab": {
          "base_uri": "https://localhost:8080/"
        },
        "outputId": "7f035f7b-4935-45ae-e4c6-04f96760829b"
      },
      "source": [
        "print('total control validation images', len(os.listdir(val_control_dir)))"
      ],
      "execution_count": 19,
      "outputs": [
        {
          "output_type": "stream",
          "text": [
            "total control validation images 74\n"
          ],
          "name": "stdout"
        }
      ]
    },
    {
      "cell_type": "markdown",
      "metadata": {
        "id": "vZLONGZfg3yL"
      },
      "source": [
        "#### The Neural Network\r\n",
        "\r\n",
        "The neural network in this analysis is a basic covenet using alernating layers of \r\n",
        "* Conv2D - learns local patterns \r\n",
        "* Maxpooling - Extracting windows from the input feature map and outputting the max value in each channel\r\n",
        "* Dense - learns global patterns in their feature input space\r\n",
        "\r\n",
        "The model is based off the convolutional neural netwrok used to classify cat and dog images in \"Deep Learning with Python\" (Chollet, 2018), the binary classification problem uses hidden layers alernating between Conv2D and Maxpooling to identify local patterns such as edges, with dense layers to identify these local patterns. The main difference between my model and the dog and cat one is that the dog and cat one uses binary classification by ustilising the sigmoid activation. To correctly identify the 3 different classes (Nitrogen Deficient, Leaf Rust and Healthy) the 'softmax' activation is used with 3 classes. \r\n",
        "(Chollet, 2018)"
      ]
    },
    {
      "cell_type": "code",
      "metadata": {
        "id": "wQQcHNLIQ6Vi"
      },
      "source": [
        "from keras import layers\n",
        "from keras import models\n",
        "\n",
        "\n",
        "model = models.Sequential()\n",
        "model.add(layers.Conv2D(32, (3, 3), activation='relu', input_shape=(150, 150, 3)))\n",
        "model.add(layers.MaxPooling2D((2, 2)))\n",
        "model.add(layers.Conv2D(64, (3, 3), activation='relu'))\n",
        "model.add(layers.Conv2D(64, (3, 3), activation='relu'))\n",
        "model.add(layers.MaxPooling2D((2, 2)))\n",
        "model.add(layers.Conv2D(128, (3, 3), activation='relu'))\n",
        "model.add(layers.Conv2D(128, (3, 3), activation='relu'))\n",
        "model.add(layers.MaxPooling2D((2, 2)))\n",
        "model.add(layers.Conv2D(256, (3, 3), activation='relu'))\n",
        "model.add(layers.Conv2D(256, (3, 3), activation='relu'))\n",
        "model.add(layers.MaxPooling2D((2, 2)))\n",
        "model.add(layers.Flatten())\n",
        "model.add(layers.Dense(512, activation='relu'))\n",
        "model.add(layers.Dense(3, activation='softmax'))"
      ],
      "execution_count": 20,
      "outputs": []
    },
    {
      "cell_type": "markdown",
      "metadata": {
        "id": "FzgiymocfJ7r"
      },
      "source": [
        "Looking at the model summary we see the vaious layers along with depth and size of the feature maps. The feature size (148x148) is somewhat arbitrary and is decreasing though the max pooling layers while the feature depth starts at 33 increasing to 128 before flattening. In 'Deep learning with Python' it highlights that  'rmsprop' is a suitable optimizer for the majority of applications and breaks down the appropriate last-layer activation (for multiclass, single label classification the softmax activation and categorical_crossenthropy as the loss function)\r\n",
        "\r\n"
      ]
    },
    {
      "cell_type": "code",
      "metadata": {
        "id": "CYE6U1O4U_sK",
        "colab": {
          "base_uri": "https://localhost:8080/"
        },
        "outputId": "34561d9d-4198-4b5b-9212-694a5a342dff"
      },
      "source": [
        "model.summary()"
      ],
      "execution_count": 21,
      "outputs": [
        {
          "output_type": "stream",
          "text": [
            "Model: \"sequential\"\n",
            "_________________________________________________________________\n",
            "Layer (type)                 Output Shape              Param #   \n",
            "=================================================================\n",
            "conv2d (Conv2D)              (None, 148, 148, 32)      896       \n",
            "_________________________________________________________________\n",
            "max_pooling2d (MaxPooling2D) (None, 74, 74, 32)        0         \n",
            "_________________________________________________________________\n",
            "conv2d_1 (Conv2D)            (None, 72, 72, 64)        18496     \n",
            "_________________________________________________________________\n",
            "conv2d_2 (Conv2D)            (None, 70, 70, 64)        36928     \n",
            "_________________________________________________________________\n",
            "max_pooling2d_1 (MaxPooling2 (None, 35, 35, 64)        0         \n",
            "_________________________________________________________________\n",
            "conv2d_3 (Conv2D)            (None, 33, 33, 128)       73856     \n",
            "_________________________________________________________________\n",
            "conv2d_4 (Conv2D)            (None, 31, 31, 128)       147584    \n",
            "_________________________________________________________________\n",
            "max_pooling2d_2 (MaxPooling2 (None, 15, 15, 128)       0         \n",
            "_________________________________________________________________\n",
            "conv2d_5 (Conv2D)            (None, 13, 13, 256)       295168    \n",
            "_________________________________________________________________\n",
            "conv2d_6 (Conv2D)            (None, 11, 11, 256)       590080    \n",
            "_________________________________________________________________\n",
            "max_pooling2d_3 (MaxPooling2 (None, 5, 5, 256)         0         \n",
            "_________________________________________________________________\n",
            "flatten (Flatten)            (None, 6400)              0         \n",
            "_________________________________________________________________\n",
            "dense (Dense)                (None, 512)               3277312   \n",
            "_________________________________________________________________\n",
            "dense_1 (Dense)              (None, 3)                 1539      \n",
            "=================================================================\n",
            "Total params: 4,441,859\n",
            "Trainable params: 4,441,859\n",
            "Non-trainable params: 0\n",
            "_________________________________________________________________\n"
          ],
          "name": "stdout"
        }
      ]
    },
    {
      "cell_type": "markdown",
      "metadata": {
        "id": "TwXzou8tgejo"
      },
      "source": [
        "The optimizer and loss functions are "
      ]
    },
    {
      "cell_type": "code",
      "metadata": {
        "id": "vGmrNQniVJ1A"
      },
      "source": [
        "from keras import optimizers\n",
        "\n",
        "model.compile(optimizer='rmsprop',\n",
        "              loss='categorical_crossentropy',\n",
        "              metrics=['accuracy'])"
      ],
      "execution_count": 22,
      "outputs": []
    },
    {
      "cell_type": "markdown",
      "metadata": {
        "id": "LF37n_rBj4lb"
      },
      "source": [
        "#### Image Preprocessing\r\n"
      ]
    },
    {
      "cell_type": "markdown",
      "metadata": {
        "id": "VaNktoSRlP2p"
      },
      "source": [
        "Using keras's prepossing.image packages it automatically converts the jpeg files from a RGB grid of pixels into tensors that are rescaled to be between 0 and 1 which works better in neural networks. "
      ]
    },
    {
      "cell_type": "code",
      "metadata": {
        "id": "zi9jzf6uVTPo",
        "colab": {
          "base_uri": "https://localhost:8080/"
        },
        "outputId": "b82e0280-0a18-4020-84ed-7ec2f5ea7ebb"
      },
      "source": [
        "from keras.preprocessing.image import ImageDataGenerator\n",
        "\n",
        "# All images will be rescaled by 1./255 but the training images will also be augmented through rotation, changing height and width zooming and through flipping.\n",
        "train_datagen = ImageDataGenerator(rescale=1./255, rotation_range=40,\n",
        "                                   width_shift_range=0.2,\n",
        "                                   height_shift_range=0.2,\n",
        "                                   shear_range=0.2,\n",
        "                                   zoom_range=0.2,\n",
        "                                   horizontal_flip=True,\n",
        "                                   fill_mode='nearest')\n",
        "# The test images are left alone\n",
        "test_datagen = ImageDataGenerator(rescale=1./255)\n",
        "\n",
        "train_generator = train_datagen.flow_from_directory(\n",
        "        # This is the target directory\n",
        "        train_dir,\n",
        "        # All images will be resized to 150x150\n",
        "        target_size=(150, 150),\n",
        "        batch_size=20,\n",
        "        # Since we use categorical_crossentropy loss, we need classification labels\n",
        "        class_mode='categorical')\n",
        "\n",
        "# The same process for the validation set \n",
        "validation_generator = test_datagen.flow_from_directory(\n",
        "        val_dir,\n",
        "        target_size=(150, 150),\n",
        "        batch_size=20,\n",
        "        class_mode='categorical')"
      ],
      "execution_count": 23,
      "outputs": [
        {
          "output_type": "stream",
          "text": [
            "Found 933 images belonging to 3 classes.\n",
            "Found 172 images belonging to 3 classes.\n"
          ],
          "name": "stdout"
        }
      ]
    },
    {
      "cell_type": "code",
      "metadata": {
        "id": "1NUEez2kVkFo",
        "colab": {
          "base_uri": "https://localhost:8080/"
        },
        "outputId": "982fe4a6-cf7d-432a-dd7f-198ab495d64b"
      },
      "source": [
        "#Takes the samples of size 20 (batch size) iterativly for the model, the generator will do this endlessly therefor a 'break' is required to stop it. \n",
        "for data_batch, labels_batch in train_generator:\n",
        "    print('data batch shape:', data_batch.shape)\n",
        "    print('labels batch shape:', labels_batch.shape)\n",
        "    break"
      ],
      "execution_count": 24,
      "outputs": [
        {
          "output_type": "stream",
          "text": [
            "data batch shape: (20, 150, 150, 3)\n",
            "labels batch shape: (20, 3)\n"
          ],
          "name": "stdout"
        }
      ]
    },
    {
      "cell_type": "markdown",
      "metadata": {
        "id": "EOfsIIn1ksgX"
      },
      "source": [
        "##### Running the model\r\n",
        "Once the data is in a suitable format for the model, it is now fit our model using the `model.fit`. The data is being generated in batches of 20 inputs indefinatly, therefore the generator needs to know how many samples to to draw from the generator before declaring an epoch. In this case there are 722 training images(258 control, 258 "
      ]
    },
    {
      "cell_type": "code",
      "metadata": {
        "colab": {
          "base_uri": "https://localhost:8080/"
        },
        "id": "iDxLZvLaSw9d",
        "outputId": "80456430-aee5-4902-c76f-0a4eec2d48ab"
      },
      "source": [
        "history = model.fit( train_generator,\r\n",
        "                    steps_per_epoch=36, \r\n",
        "                    epochs = 25,\r\n",
        "                    validation_data=validation_generator, \r\n",
        "                    validation_steps=2)"
      ],
      "execution_count": 26,
      "outputs": [
        {
          "output_type": "stream",
          "text": [
            "Epoch 1/25\n",
            "36/36 [==============================] - 153s 4s/step - loss: 0.7718 - accuracy: 0.7055 - val_loss: 0.7283 - val_accuracy: 0.5750\n",
            "Epoch 2/25\n",
            "36/36 [==============================] - 152s 4s/step - loss: 0.7874 - accuracy: 0.7686 - val_loss: 0.6760 - val_accuracy: 0.7500\n",
            "Epoch 3/25\n",
            "36/36 [==============================] - 152s 4s/step - loss: 0.4044 - accuracy: 0.8750 - val_loss: 0.5126 - val_accuracy: 0.8000\n",
            "Epoch 4/25\n",
            "36/36 [==============================] - 151s 4s/step - loss: 0.4149 - accuracy: 0.8682 - val_loss: 0.6450 - val_accuracy: 0.7500\n",
            "Epoch 5/25\n",
            "36/36 [==============================] - 152s 4s/step - loss: 0.3454 - accuracy: 0.8948 - val_loss: 0.3450 - val_accuracy: 0.8750\n",
            "Epoch 6/25\n",
            "36/36 [==============================] - 152s 4s/step - loss: 0.3306 - accuracy: 0.9014 - val_loss: 0.1557 - val_accuracy: 0.9750\n",
            "Epoch 7/25\n",
            "36/36 [==============================] - 149s 4s/step - loss: 0.3802 - accuracy: 0.9018 - val_loss: 0.3156 - val_accuracy: 0.8500\n",
            "Epoch 8/25\n",
            "36/36 [==============================] - 150s 4s/step - loss: 0.2906 - accuracy: 0.9102 - val_loss: 0.1255 - val_accuracy: 0.9250\n",
            "Epoch 9/25\n",
            "36/36 [==============================] - 152s 4s/step - loss: 0.3415 - accuracy: 0.9088 - val_loss: 0.2396 - val_accuracy: 0.9750\n",
            "Epoch 10/25\n",
            "36/36 [==============================] - 152s 4s/step - loss: 0.2312 - accuracy: 0.9333 - val_loss: 0.2070 - val_accuracy: 0.9250\n",
            "Epoch 11/25\n",
            "36/36 [==============================] - 152s 4s/step - loss: 0.2976 - accuracy: 0.9088 - val_loss: 0.3916 - val_accuracy: 0.8500\n",
            "Epoch 12/25\n",
            "36/36 [==============================] - 153s 4s/step - loss: 0.2522 - accuracy: 0.9181 - val_loss: 0.2452 - val_accuracy: 0.9000\n",
            "Epoch 13/25\n",
            "36/36 [==============================] - 155s 4s/step - loss: 0.3094 - accuracy: 0.9201 - val_loss: 0.1745 - val_accuracy: 0.9500\n",
            "Epoch 14/25\n",
            "36/36 [==============================] - 151s 4s/step - loss: 0.4321 - accuracy: 0.8990 - val_loss: 0.5862 - val_accuracy: 0.7750\n",
            "Epoch 15/25\n",
            "36/36 [==============================] - 151s 4s/step - loss: 0.3007 - accuracy: 0.9088 - val_loss: 0.4764 - val_accuracy: 0.8250\n",
            "Epoch 16/25\n",
            "36/36 [==============================] - 151s 4s/step - loss: 0.2402 - accuracy: 0.9257 - val_loss: 0.2549 - val_accuracy: 0.9000\n",
            "Epoch 17/25\n",
            "36/36 [==============================] - 154s 4s/step - loss: 0.2415 - accuracy: 0.9341 - val_loss: 0.1727 - val_accuracy: 0.9250\n",
            "Epoch 18/25\n",
            "36/36 [==============================] - 150s 4s/step - loss: 0.5737 - accuracy: 0.9088 - val_loss: 0.4731 - val_accuracy: 0.8250\n",
            "Epoch 19/25\n",
            "36/36 [==============================] - 151s 4s/step - loss: 0.1902 - accuracy: 0.9453 - val_loss: 0.2718 - val_accuracy: 0.8500\n",
            "Epoch 20/25\n",
            "36/36 [==============================] - 151s 4s/step - loss: 0.2304 - accuracy: 0.9369 - val_loss: 0.3001 - val_accuracy: 0.9250\n",
            "Epoch 21/25\n",
            "36/36 [==============================] - 154s 4s/step - loss: 0.2893 - accuracy: 0.9130 - val_loss: 0.2890 - val_accuracy: 0.8500\n",
            "Epoch 22/25\n",
            "36/36 [==============================] - 150s 4s/step - loss: 0.4120 - accuracy: 0.9243 - val_loss: 0.2506 - val_accuracy: 0.8750\n",
            "Epoch 23/25\n",
            "36/36 [==============================] - 150s 4s/step - loss: 0.2690 - accuracy: 0.9060 - val_loss: 0.1656 - val_accuracy: 0.9500\n",
            "Epoch 24/25\n",
            "36/36 [==============================] - 152s 4s/step - loss: 0.2650 - accuracy: 0.9194 - val_loss: 0.7225 - val_accuracy: 0.8500\n",
            "Epoch 25/25\n",
            "36/36 [==============================] - 154s 4s/step - loss: 0.3038 - accuracy: 0.9257 - val_loss: 1.5227 - val_accuracy: 0.8000\n"
          ],
          "name": "stdout"
        }
      ]
    },
    {
      "cell_type": "code",
      "metadata": {
        "id": "IYhH0D3FR2_p",
        "colab": {
          "base_uri": "https://localhost:8080/"
        },
        "outputId": "adde5fd8-af01-4896-d8ec-e46301d12da7"
      },
      "source": [
        "model.save('Rust_identifier_1')"
      ],
      "execution_count": 27,
      "outputs": [
        {
          "output_type": "stream",
          "text": [
            "INFO:tensorflow:Assets written to: Rust_identifier_1/assets\n"
          ],
          "name": "stdout"
        }
      ]
    },
    {
      "cell_type": "markdown",
      "metadata": {
        "id": "4MFTxK0-F_4P"
      },
      "source": [
        "### 3. Results"
      ]
    },
    {
      "cell_type": "code",
      "metadata": {
        "id": "aA4IdV1pTya_",
        "colab": {
          "base_uri": "https://localhost:8080/",
          "height": 545
        },
        "outputId": "fe5898c8-2653-483b-e374-d1ad22291fa9"
      },
      "source": [
        "import matplotlib.pyplot as plt\n",
        "\n",
        "acc = history.history['accuracy']\n",
        "val_acc = history.history['val_accuracy']\n",
        "loss = history.history['loss']\n",
        "val_loss = history.history['val_loss']\n",
        "\n",
        "epochs = range(len(acc))\n",
        "\n",
        "plt.plot(epochs, acc, 'bo', label='Training acc')\n",
        "plt.plot(epochs, val_acc, 'b', label='Validation acc')\n",
        "plt.title('Training and validation accuracy')\n",
        "plt.legend()\n",
        "\n",
        "plt.figure()\n",
        "\n",
        "plt.plot(epochs, loss, 'bo', label='Training loss')\n",
        "plt.plot(epochs, val_loss, 'b', label='Validation loss')\n",
        "plt.title('Training and validation loss')\n",
        "plt.legend()\n",
        "\n",
        "plt.show()"
      ],
      "execution_count": 28,
      "outputs": [
        {
          "output_type": "display_data",
          "data": {
            "image/png": "[encoded data removed]",
            "text/plain": [
              "<Figure size 432x288 with 1 Axes>"
            ]
          },
          "metadata": {
            "tags": [],
            "needs_background": "light"
          }
        },
        {
          "output_type": "display_data",
          "data": {
            "image/png": "[encoded data removed]",
            "text/plain": [
              "<Figure size 432x288 with 1 Axes>"
            ]
          },
          "metadata": {
            "tags": [],
            "needs_background": "light"
          }
        }
      ]
    },
    {
      "cell_type": "code",
      "metadata": {
        "colab": {
          "base_uri": "https://localhost:8080/"
        },
        "id": "ntQ6IAOfhrPT",
        "outputId": "780a777b-5c28-430f-e537-ce4194bba317"
      },
      "source": [
        "# The test images are left alone\r\n",
        "test_datagen = ImageDataGenerator(rescale=1./255)\r\n",
        "\r\n",
        "\r\n",
        "test_generator = test_datagen.flow_from_directory(\r\n",
        "        # This is the target directory\r\n",
        "        test_dir,\r\n",
        "        # All images will be resized to 150x150\r\n",
        "        target_size=(150, 150),\r\n",
        "        batch_size=20,\r\n",
        "        # Since we use categorical_crossentropy loss, we need classification labels\r\n",
        "        class_mode='categorical')\r\n",
        "\r\n",
        "test_generator = test_datagen.flow_from_directory(\r\n",
        "        test_dir,\r\n",
        "        target_size=(150, 150),\r\n",
        "        batch_size=10,\r\n",
        "        class_mode='categorical')"
      ],
      "execution_count": 35,
      "outputs": [
        {
          "output_type": "stream",
          "text": [
            "Found 172 images belonging to 3 classes.\n",
            "Found 172 images belonging to 3 classes.\n"
          ],
          "name": "stdout"
        }
      ]
    },
    {
      "cell_type": "code",
      "metadata": {
        "colab": {
          "base_uri": "https://localhost:8080/"
        },
        "id": "vWecbaZqhtsW",
        "outputId": "eb36e0e3-dad0-4eda-8480-c704b010937c"
      },
      "source": [
        "for data_batch, labels_batch in test_generator:\r\n",
        "    print('data batch shape:', data_batch.shape)\r\n",
        "    print('labels batch shape:', labels_batch.shape)\r\n",
        "    break"
      ],
      "execution_count": 36,
      "outputs": [
        {
          "output_type": "stream",
          "text": [
            "data batch shape: (10, 150, 150, 3)\n",
            "labels batch shape: (10, 3)\n"
          ],
          "name": "stdout"
        }
      ]
    },
    {
      "cell_type": "code",
      "metadata": {
        "colab": {
          "base_uri": "https://localhost:8080/"
        },
        "id": "6nSOBTjKhwVM",
        "outputId": "59845e7d-b9f8-4f80-f750-950b85c84ccd"
      },
      "source": [
        "test_loss, test_acc = model.evaluate(test_generator, steps=17)\r\n",
        "test_acc= (round(test_acc, 5)) * 100\r\n",
        "print('test acc:', test_acc,'%')"
      ],
      "execution_count": 38,
      "outputs": [
        {
          "output_type": "stream",
          "text": [
            "17/17 [==============================] - 20s 1s/step - loss: 0.7164 - accuracy: 0.7765\n",
            "test acc: 77.647 %\n"
          ],
          "name": "stdout"
        }
      ]
    },
    {
      "cell_type": "markdown",
      "metadata": {
        "id": "zB8bNqsniCWG"
      },
      "source": [
        "Using all available images in combination with the image augmentation not only resulted in much more noise and incosistency in the results as well as dramatically lower the test accuracy to 77% down from over 90%.  "
      ]
    }
  ]
}